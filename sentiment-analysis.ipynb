{
 "cells": [
  {
   "cell_type": "code",
   "id": "initial_id",
   "metadata": {
    "collapsed": true,
    "ExecuteTime": {
     "end_time": "2025-08-22T16:20:50.774542Z",
     "start_time": "2025-08-22T16:20:48.981565Z"
    }
   },
   "source": [
    "#Sentimental Analysis - using fine tuning\n",
    "import pandas as pd\n",
    "\n",
    "books=pd.read_csv(\"books_with_categories.csv\")"
   ],
   "outputs": [],
   "execution_count": 2
  },
  {
   "metadata": {
    "ExecuteTime": {
     "end_time": "2025-08-22T16:21:02.948889Z",
     "start_time": "2025-08-22T16:20:51.462461Z"
    }
   },
   "cell_type": "code",
   "source": [
    "from transformers import pipeline\n",
    "classifier = pipeline(\"text-classification\",\n",
    "                      model=\"j-hartmann/emotion-english-distilroberta-base\",\n",
    "                      top_k=None,\n",
    "                      device=-1,\n",
    "                      )\n",
    "classifier(\"I love this!\")"
   ],
   "id": "bf7fb7cdfae72e8d",
   "outputs": [
    {
     "name": "stderr",
     "output_type": "stream",
     "text": [
      "Device set to use cpu\n"
     ]
    },
    {
     "data": {
      "text/plain": [
       "[[{'label': 'joy', 'score': 0.9771687984466553},\n",
       "  {'label': 'surprise', 'score': 0.008528691716492176},\n",
       "  {'label': 'neutral', 'score': 0.005764589179307222},\n",
       "  {'label': 'anger', 'score': 0.004419791977852583},\n",
       "  {'label': 'sadness', 'score': 0.002092393347993493},\n",
       "  {'label': 'disgust', 'score': 0.001611992483958602},\n",
       "  {'label': 'fear', 'score': 0.0004138525982853025}]]"
      ]
     },
     "execution_count": 3,
     "metadata": {},
     "output_type": "execute_result"
    }
   ],
   "execution_count": 3
  },
  {
   "metadata": {
    "ExecuteTime": {
     "end_time": "2025-08-22T14:41:27.377911Z",
     "start_time": "2025-08-22T14:41:27.368420Z"
    }
   },
   "cell_type": "code",
   "source": "books[\"description\"][0]",
   "id": "b18a194cbb3019b8",
   "outputs": [
    {
     "data": {
      "text/plain": [
       "\"Emma Watson a research physician has been training for the mission of a lifetime: to study living organisms in the microgravity of space. But the true and lethal nature of the experiment has not been revealed to NASA and once aboard the space station things start to go wrong. A culture of single-celled Archaeons, gathered from the deep sea, begin to rapidly multiply and infect the crew - with deadly and agonising results. As her estranged husband and ground crew at NASA work against the clock to launch a rescue Emma stuggles to contain the lethal microbe. But with the contagion threatening Earth's population, there are those who would leave the astronauts stranded in orbit, quarantined aboard the station.\""
      ]
     },
     "execution_count": 11,
     "metadata": {},
     "output_type": "execute_result"
    }
   ],
   "execution_count": 11
  },
  {
   "metadata": {
    "ExecuteTime": {
     "end_time": "2025-08-22T14:41:29.326473Z",
     "start_time": "2025-08-22T14:41:29.201007Z"
    }
   },
   "cell_type": "code",
   "source": "classifier(books[\"description\"][0]) #classifing first one",
   "id": "77e4f011d2d92d2e",
   "outputs": [
    {
     "data": {
      "text/plain": [
       "[[{'label': 'disgust', 'score': 0.44187644124031067},\n",
       "  {'label': 'fear', 'score': 0.2832786440849304},\n",
       "  {'label': 'neutral', 'score': 0.16197003424167633},\n",
       "  {'label': 'sadness', 'score': 0.05621432512998581},\n",
       "  {'label': 'anger', 'score': 0.0484253466129303},\n",
       "  {'label': 'surprise', 'score': 0.005015256814658642},\n",
       "  {'label': 'joy', 'score': 0.003219984471797943}]]"
      ]
     },
     "execution_count": 12,
     "metadata": {},
     "output_type": "execute_result"
    }
   ],
   "execution_count": 12
  },
  {
   "metadata": {
    "ExecuteTime": {
     "end_time": "2025-08-22T16:21:17.106092Z",
     "start_time": "2025-08-22T16:21:16.799188Z"
    }
   },
   "cell_type": "code",
   "source": [
    "#mixing emotion so- splitting description to individual  sentence and classfiy\n",
    "sentences=books[\"description\"][0].split(\".\")\n",
    "predictions= classifier(sentences)"
   ],
   "id": "a99dab78a5311c0b",
   "outputs": [],
   "execution_count": 5
  },
  {
   "metadata": {
    "ExecuteTime": {
     "end_time": "2025-08-22T15:45:00.607911Z",
     "start_time": "2025-08-22T15:45:00.598567Z"
    }
   },
   "cell_type": "code",
   "source": "sentences[0]",
   "id": "d481174af5e0b72e",
   "outputs": [
    {
     "data": {
      "text/plain": [
       "'Emma Watson a research physician has been training for the mission of a lifetime: to study living organisms in the microgravity of space'"
      ]
     },
     "execution_count": 16,
     "metadata": {},
     "output_type": "execute_result"
    }
   ],
   "execution_count": 16
  },
  {
   "metadata": {
    "ExecuteTime": {
     "end_time": "2025-08-22T15:45:10.143935Z",
     "start_time": "2025-08-22T15:45:10.137519Z"
    }
   },
   "cell_type": "code",
   "source": "predictions[0]",
   "id": "47d9ce678c7f0c17",
   "outputs": [
    {
     "data": {
      "text/plain": [
       "[{'label': 'neutral', 'score': 0.6422688364982605},\n",
       " {'label': 'disgust', 'score': 0.12185034900903702},\n",
       " {'label': 'fear', 'score': 0.09685871005058289},\n",
       " {'label': 'surprise', 'score': 0.06819461286067963},\n",
       " {'label': 'joy', 'score': 0.035124193876981735},\n",
       " {'label': 'sadness', 'score': 0.019500814378261566},\n",
       " {'label': 'anger', 'score': 0.016202468425035477}]"
      ]
     },
     "execution_count": 17,
     "metadata": {},
     "output_type": "execute_result"
    }
   ],
   "execution_count": 17
  },
  {
   "metadata": {
    "ExecuteTime": {
     "end_time": "2025-08-22T15:45:27.884237Z",
     "start_time": "2025-08-22T15:45:27.874911Z"
    }
   },
   "cell_type": "code",
   "source": "sentences[3]",
   "id": "c85c68fbfae61701",
   "outputs": [
    {
     "data": {
      "text/plain": [
       "' As her estranged husband and ground crew at NASA work against the clock to launch a rescue Emma stuggles to contain the lethal microbe'"
      ]
     },
     "execution_count": 18,
     "metadata": {},
     "output_type": "execute_result"
    }
   ],
   "execution_count": 18
  },
  {
   "metadata": {
    "ExecuteTime": {
     "end_time": "2025-08-22T15:45:44.582711Z",
     "start_time": "2025-08-22T15:45:44.576729Z"
    }
   },
   "cell_type": "code",
   "source": "predictions[3]",
   "id": "f060e348bf0a90ac",
   "outputs": [
    {
     "data": {
      "text/plain": [
       "[{'label': 'fear', 'score': 0.4600585401058197},\n",
       " {'label': 'neutral', 'score': 0.19147056341171265},\n",
       " {'label': 'sadness', 'score': 0.1358918994665146},\n",
       " {'label': 'anger', 'score': 0.12885285913944244},\n",
       " {'label': 'disgust', 'score': 0.07337749004364014},\n",
       " {'label': 'surprise', 'score': 0.006486775819212198},\n",
       " {'label': 'joy', 'score': 0.003861889475956559}]"
      ]
     },
     "execution_count": 19,
     "metadata": {},
     "output_type": "execute_result"
    }
   ],
   "execution_count": 19
  },
  {
   "metadata": {
    "ExecuteTime": {
     "end_time": "2025-08-22T15:49:02.626661Z",
     "start_time": "2025-08-22T15:49:02.612313Z"
    }
   },
   "cell_type": "code",
   "source": "predictions",
   "id": "25e8502f6f8c4a79",
   "outputs": [
    {
     "data": {
      "text/plain": [
       "[[{'label': 'neutral', 'score': 0.6422688364982605},\n",
       "  {'label': 'disgust', 'score': 0.12185034900903702},\n",
       "  {'label': 'fear', 'score': 0.09685871005058289},\n",
       "  {'label': 'surprise', 'score': 0.06819461286067963},\n",
       "  {'label': 'joy', 'score': 0.035124193876981735},\n",
       "  {'label': 'sadness', 'score': 0.019500814378261566},\n",
       "  {'label': 'anger', 'score': 0.016202468425035477}],\n",
       " [{'label': 'anger', 'score': 0.3963668942451477},\n",
       "  {'label': 'fear', 'score': 0.38848766684532166},\n",
       "  {'label': 'disgust', 'score': 0.10238470137119293},\n",
       "  {'label': 'sadness', 'score': 0.058679379522800446},\n",
       "  {'label': 'neutral', 'score': 0.0485905222594738},\n",
       "  {'label': 'surprise', 'score': 0.0035759860184043646},\n",
       "  {'label': 'joy', 'score': 0.0019147975835949183}],\n",
       " [{'label': 'fear', 'score': 0.448210209608078},\n",
       "  {'label': 'disgust', 'score': 0.36927053332328796},\n",
       "  {'label': 'neutral', 'score': 0.08002244681119919},\n",
       "  {'label': 'anger', 'score': 0.07518163323402405},\n",
       "  {'label': 'sadness', 'score': 0.015448126941919327},\n",
       "  {'label': 'surprise', 'score': 0.008004403673112392},\n",
       "  {'label': 'joy', 'score': 0.0038626561872661114}],\n",
       " [{'label': 'fear', 'score': 0.4600585401058197},\n",
       "  {'label': 'neutral', 'score': 0.19147056341171265},\n",
       "  {'label': 'sadness', 'score': 0.1358918994665146},\n",
       "  {'label': 'anger', 'score': 0.12885285913944244},\n",
       "  {'label': 'disgust', 'score': 0.07337749004364014},\n",
       "  {'label': 'surprise', 'score': 0.006486775819212198},\n",
       "  {'label': 'joy', 'score': 0.003861889475956559}],\n",
       " [{'label': 'neutral', 'score': 0.5502902269363403},\n",
       "  {'label': 'fear', 'score': 0.35017627477645874},\n",
       "  {'label': 'sadness', 'score': 0.03232230618596077},\n",
       "  {'label': 'disgust', 'score': 0.028410913422703743},\n",
       "  {'label': 'anger', 'score': 0.02403702586889267},\n",
       "  {'label': 'surprise', 'score': 0.009811639785766602},\n",
       "  {'label': 'joy', 'score': 0.004951674025505781}],\n",
       " [{'label': 'neutral', 'score': 0.549476683139801},\n",
       "  {'label': 'sadness', 'score': 0.11169019341468811},\n",
       "  {'label': 'disgust', 'score': 0.10400673747062683},\n",
       "  {'label': 'surprise', 'score': 0.07876546680927277},\n",
       "  {'label': 'anger', 'score': 0.06413363665342331},\n",
       "  {'label': 'fear', 'score': 0.051362838596105576},\n",
       "  {'label': 'joy', 'score': 0.04056441783905029}]]"
      ]
     },
     "execution_count": 21,
     "metadata": {},
     "output_type": "execute_result"
    }
   ],
   "execution_count": 21
  },
  {
   "metadata": {
    "ExecuteTime": {
     "end_time": "2025-08-22T16:21:23.666115Z",
     "start_time": "2025-08-22T16:21:23.653094Z"
    }
   },
   "cell_type": "code",
   "source": [
    "# for each book separate column for each of emotions classes - high prob across description- sorting first\n",
    "sorted(predictions[0],key=lambda x:x[\"label\"])"
   ],
   "id": "755fc7a4978b51fb",
   "outputs": [
    {
     "data": {
      "text/plain": [
       "[{'label': 'anger', 'score': 0.009156367741525173},\n",
       " {'label': 'disgust', 'score': 0.0026284768246114254},\n",
       " {'label': 'fear', 'score': 0.06816227734088898},\n",
       " {'label': 'joy', 'score': 0.04794260486960411},\n",
       " {'label': 'neutral', 'score': 0.14038598537445068},\n",
       " {'label': 'sadness', 'score': 0.002122163772583008},\n",
       " {'label': 'surprise', 'score': 0.7296021580696106}]"
      ]
     },
     "execution_count": 6,
     "metadata": {},
     "output_type": "execute_result"
    }
   ],
   "execution_count": 6
  },
  {
   "metadata": {
    "ExecuteTime": {
     "end_time": "2025-08-22T16:21:28.215816Z",
     "start_time": "2025-08-22T16:21:28.210519Z"
    }
   },
   "cell_type": "code",
   "source": [
    "import numpy as np\n",
    "\n",
    "emotion_labels = [\"anger\",\"disgust\",\"fear\",\"happiness\",\"sadness\",\"surprise\"] #key->col of pandas df\n",
    "\n",
    "isbn = []\n",
    "\n",
    "emotion_score = {label: [] for label in emotion_labels}\n",
    "\n",
    "def calculate_max_emotion_scores(predictions):\n",
    "    per_emotion_scores = {label: [] for label in emotion_labels}\n",
    "    for prediction_per_sentence in predictions:#looping sentence\n",
    "        sorted_predictions = sorted(prediction_per_sentence, key=lambda x: x[\"label\"])\n",
    "        for index, label in enumerate(emotion_labels):#extract score in each sentence for each emotion\n",
    "            per_emotion_scores[label].append(sorted_predictions[index][\"score\"])\n",
    "    return {label: np.max(scores) for label, scores in per_emotion_scores.items()}\n"
   ],
   "id": "cc27c0df6fa602f7",
   "outputs": [],
   "execution_count": 8
  },
  {
   "metadata": {
    "ExecuteTime": {
     "end_time": "2025-08-22T16:21:32.346114Z",
     "start_time": "2025-08-22T16:21:30.224271Z"
    }
   },
   "cell_type": "code",
   "source": [
    "for i in range(10):\n",
    "    isbn.append(books[\"isbn13\"][i])\n",
    "    sentences = books[\"description\"][i].split(\".\")\n",
    "    predictions = classifier(sentences)\n",
    "    max_score = calculate_max_emotion_scores(predictions)\n",
    "    for label in emotion_labels:\n",
    "        emotion_score[label].append(max_score[label])"
   ],
   "id": "2b39ee989a0a50ca",
   "outputs": [],
   "execution_count": 9
  },
  {
   "metadata": {
    "ExecuteTime": {
     "end_time": "2025-08-22T16:12:30.539506Z",
     "start_time": "2025-08-22T16:12:30.530403Z"
    }
   },
   "cell_type": "code",
   "source": "emotion_score",
   "id": "5ba0a346c66b78a1",
   "outputs": [
    {
     "data": {
      "text/plain": [
       "{'anger': [np.float64(0.3963668942451477),\n",
       "  np.float64(0.4385429918766022),\n",
       "  np.float64(0.07747067511081696),\n",
       "  np.float64(0.2532133460044861),\n",
       "  np.float64(0.06413363665342331),\n",
       "  np.float64(0.0077097732573747635),\n",
       "  np.float64(0.06413363665342331),\n",
       "  np.float64(0.10218361020088196),\n",
       "  np.float64(0.06413363665342331),\n",
       "  np.float64(0.0287205558270216)],\n",
       " 'disgust': [np.float64(0.36927053332328796),\n",
       "  np.float64(0.6104852557182312),\n",
       "  np.float64(0.10400673747062683),\n",
       "  np.float64(0.16550090909004211),\n",
       "  np.float64(0.10400673747062683),\n",
       "  np.float64(0.011465298943221569),\n",
       "  np.float64(0.23246851563453674),\n",
       "  np.float64(0.12519362568855286),\n",
       "  np.float64(0.10400673747062683),\n",
       "  np.float64(0.009238985367119312)],\n",
       " 'fear': [np.float64(0.4600585401058197),\n",
       "  np.float64(0.8927624821662903),\n",
       "  np.float64(0.824425458908081),\n",
       "  np.float64(0.9207272529602051),\n",
       "  np.float64(0.051362838596105576),\n",
       "  np.float64(0.008247917518019676),\n",
       "  np.float64(0.13417752087116241),\n",
       "  np.float64(0.702742338180542),\n",
       "  np.float64(0.051362838596105576),\n",
       "  np.float64(0.8507741093635559)],\n",
       " 'happiness': [np.float64(0.04056441783905029),\n",
       "  np.float64(0.47997766733169556),\n",
       "  np.float64(0.8169856667518616),\n",
       "  np.float64(0.04056441783905029),\n",
       "  np.float64(0.04333188757300377),\n",
       "  np.float64(0.9807228446006775),\n",
       "  np.float64(0.26190727949142456),\n",
       "  np.float64(0.26140037178993225),\n",
       "  np.float64(0.04816889390349388),\n",
       "  np.float64(0.09218831360340118)],\n",
       " 'sadness': [np.float64(0.6422688364982605),\n",
       "  np.float64(0.919697105884552),\n",
       "  np.float64(0.8747958540916443),\n",
       "  np.float64(0.8712722063064575),\n",
       "  np.float64(0.897894024848938),\n",
       "  np.float64(0.8928729295730591),\n",
       "  np.float64(0.549476683139801),\n",
       "  np.float64(0.7420603036880493),\n",
       "  np.float64(0.8481590747833252),\n",
       "  np.float64(0.08664491772651672)],\n",
       " 'surprise': [np.float64(0.1358918994665146),\n",
       "  np.float64(0.4760904014110565),\n",
       "  np.float64(0.11169019341468811),\n",
       "  np.float64(0.13761506974697113),\n",
       "  np.float64(0.11169019341468811),\n",
       "  np.float64(0.007045928854495287),\n",
       "  np.float64(0.11169019341468811),\n",
       "  np.float64(0.9859613180160522),\n",
       "  np.float64(0.11169019341468811),\n",
       "  np.float64(0.036097679287195206)]}"
      ]
     },
     "execution_count": 51,
     "metadata": {},
     "output_type": "execute_result"
    }
   ],
   "execution_count": 51
  },
  {
   "metadata": {
    "ExecuteTime": {
     "end_time": "2025-08-22T16:36:55.823442Z",
     "start_time": "2025-08-22T16:21:34.419843Z"
    }
   },
   "cell_type": "code",
   "source": [
    "from tqdm import tqdm\n",
    "\n",
    "emotion_labels = [\"anger\",\"disgust\",\"fear\",\"happiness\",\"sadness\",\"surprise\"]\n",
    "isbn = []\n",
    "emotion_score = {label: [] for label in emotion_labels}\n",
    "\n",
    "\n",
    "for i in tqdm(range(len(books))):\n",
    "    isbn.append(books[\"isbn13\"][i])\n",
    "    sentences = books[\"description\"][i].split(\".\")\n",
    "    predictions = classifier(sentences)\n",
    "    max_score = calculate_max_emotion_scores(predictions)\n",
    "    for label in emotion_labels:\n",
    "        emotion_score[label].append(max_score[label])"
   ],
   "id": "4189c080aa460e52",
   "outputs": [
    {
     "name": "stderr",
     "output_type": "stream",
     "text": [
      "100%|██████████| 5197/5197 [15:21<00:00,  5.64it/s]\n"
     ]
    }
   ],
   "execution_count": 10
  },
  {
   "metadata": {
    "ExecuteTime": {
     "end_time": "2025-08-22T16:40:20.187284Z",
     "start_time": "2025-08-22T16:40:20.168323Z"
    }
   },
   "cell_type": "code",
   "source": [
    "emotions_df=pd.DataFrame(emotion_score)\n",
    "emotions_df[\"isbn13\"] = isbn"
   ],
   "id": "41a120af96a258c5",
   "outputs": [],
   "execution_count": 13
  },
  {
   "metadata": {
    "ExecuteTime": {
     "end_time": "2025-08-22T16:40:29.384476Z",
     "start_time": "2025-08-22T16:40:29.364645Z"
    }
   },
   "cell_type": "code",
   "source": "emotions_df",
   "id": "ade92f242a3586f",
   "outputs": [
    {
     "data": {
      "text/plain": [
       "         anger   disgust      fear  happiness   sadness  surprise  \\\n",
       "0     0.064134  0.273591  0.928168   0.932798  0.646216  0.967158   \n",
       "1     0.612619  0.348284  0.942528   0.704422  0.887940  0.111690   \n",
       "2     0.064134  0.104007  0.972321   0.767239  0.549477  0.111690   \n",
       "3     0.351485  0.150722  0.360705   0.251882  0.732685  0.111690   \n",
       "4     0.081412  0.184496  0.095043   0.040564  0.884390  0.475880   \n",
       "...        ...       ...       ...        ...       ...       ...   \n",
       "5192  0.148209  0.030643  0.919165   0.255171  0.853721  0.980877   \n",
       "5193  0.064134  0.114383  0.051363   0.400263  0.883198  0.111690   \n",
       "5194  0.009997  0.009929  0.339218   0.947779  0.375754  0.066685   \n",
       "5195  0.064134  0.104007  0.459270   0.759457  0.951104  0.368111   \n",
       "5196  0.064134  0.104007  0.051363   0.958549  0.915193  0.111690   \n",
       "\n",
       "             isbn13  \n",
       "0     9780002005883  \n",
       "1     9780002261982  \n",
       "2     9780006178736  \n",
       "3     9780006280897  \n",
       "4     9780006280934  \n",
       "...             ...  \n",
       "5192  9788172235222  \n",
       "5193  9788173031014  \n",
       "5194  9788179921623  \n",
       "5195  9788185300535  \n",
       "5196  9789027712059  \n",
       "\n",
       "[5197 rows x 7 columns]"
      ],
      "text/html": [
       "<div>\n",
       "<style scoped>\n",
       "    .dataframe tbody tr th:only-of-type {\n",
       "        vertical-align: middle;\n",
       "    }\n",
       "\n",
       "    .dataframe tbody tr th {\n",
       "        vertical-align: top;\n",
       "    }\n",
       "\n",
       "    .dataframe thead th {\n",
       "        text-align: right;\n",
       "    }\n",
       "</style>\n",
       "<table border=\"1\" class=\"dataframe\">\n",
       "  <thead>\n",
       "    <tr style=\"text-align: right;\">\n",
       "      <th></th>\n",
       "      <th>anger</th>\n",
       "      <th>disgust</th>\n",
       "      <th>fear</th>\n",
       "      <th>happiness</th>\n",
       "      <th>sadness</th>\n",
       "      <th>surprise</th>\n",
       "      <th>isbn13</th>\n",
       "    </tr>\n",
       "  </thead>\n",
       "  <tbody>\n",
       "    <tr>\n",
       "      <th>0</th>\n",
       "      <td>0.064134</td>\n",
       "      <td>0.273591</td>\n",
       "      <td>0.928168</td>\n",
       "      <td>0.932798</td>\n",
       "      <td>0.646216</td>\n",
       "      <td>0.967158</td>\n",
       "      <td>9780002005883</td>\n",
       "    </tr>\n",
       "    <tr>\n",
       "      <th>1</th>\n",
       "      <td>0.612619</td>\n",
       "      <td>0.348284</td>\n",
       "      <td>0.942528</td>\n",
       "      <td>0.704422</td>\n",
       "      <td>0.887940</td>\n",
       "      <td>0.111690</td>\n",
       "      <td>9780002261982</td>\n",
       "    </tr>\n",
       "    <tr>\n",
       "      <th>2</th>\n",
       "      <td>0.064134</td>\n",
       "      <td>0.104007</td>\n",
       "      <td>0.972321</td>\n",
       "      <td>0.767239</td>\n",
       "      <td>0.549477</td>\n",
       "      <td>0.111690</td>\n",
       "      <td>9780006178736</td>\n",
       "    </tr>\n",
       "    <tr>\n",
       "      <th>3</th>\n",
       "      <td>0.351485</td>\n",
       "      <td>0.150722</td>\n",
       "      <td>0.360705</td>\n",
       "      <td>0.251882</td>\n",
       "      <td>0.732685</td>\n",
       "      <td>0.111690</td>\n",
       "      <td>9780006280897</td>\n",
       "    </tr>\n",
       "    <tr>\n",
       "      <th>4</th>\n",
       "      <td>0.081412</td>\n",
       "      <td>0.184496</td>\n",
       "      <td>0.095043</td>\n",
       "      <td>0.040564</td>\n",
       "      <td>0.884390</td>\n",
       "      <td>0.475880</td>\n",
       "      <td>9780006280934</td>\n",
       "    </tr>\n",
       "    <tr>\n",
       "      <th>...</th>\n",
       "      <td>...</td>\n",
       "      <td>...</td>\n",
       "      <td>...</td>\n",
       "      <td>...</td>\n",
       "      <td>...</td>\n",
       "      <td>...</td>\n",
       "      <td>...</td>\n",
       "    </tr>\n",
       "    <tr>\n",
       "      <th>5192</th>\n",
       "      <td>0.148209</td>\n",
       "      <td>0.030643</td>\n",
       "      <td>0.919165</td>\n",
       "      <td>0.255171</td>\n",
       "      <td>0.853721</td>\n",
       "      <td>0.980877</td>\n",
       "      <td>9788172235222</td>\n",
       "    </tr>\n",
       "    <tr>\n",
       "      <th>5193</th>\n",
       "      <td>0.064134</td>\n",
       "      <td>0.114383</td>\n",
       "      <td>0.051363</td>\n",
       "      <td>0.400263</td>\n",
       "      <td>0.883198</td>\n",
       "      <td>0.111690</td>\n",
       "      <td>9788173031014</td>\n",
       "    </tr>\n",
       "    <tr>\n",
       "      <th>5194</th>\n",
       "      <td>0.009997</td>\n",
       "      <td>0.009929</td>\n",
       "      <td>0.339218</td>\n",
       "      <td>0.947779</td>\n",
       "      <td>0.375754</td>\n",
       "      <td>0.066685</td>\n",
       "      <td>9788179921623</td>\n",
       "    </tr>\n",
       "    <tr>\n",
       "      <th>5195</th>\n",
       "      <td>0.064134</td>\n",
       "      <td>0.104007</td>\n",
       "      <td>0.459270</td>\n",
       "      <td>0.759457</td>\n",
       "      <td>0.951104</td>\n",
       "      <td>0.368111</td>\n",
       "      <td>9788185300535</td>\n",
       "    </tr>\n",
       "    <tr>\n",
       "      <th>5196</th>\n",
       "      <td>0.064134</td>\n",
       "      <td>0.104007</td>\n",
       "      <td>0.051363</td>\n",
       "      <td>0.958549</td>\n",
       "      <td>0.915193</td>\n",
       "      <td>0.111690</td>\n",
       "      <td>9789027712059</td>\n",
       "    </tr>\n",
       "  </tbody>\n",
       "</table>\n",
       "<p>5197 rows × 7 columns</p>\n",
       "</div>"
      ]
     },
     "execution_count": 14,
     "metadata": {},
     "output_type": "execute_result"
    }
   ],
   "execution_count": 14
  },
  {
   "metadata": {
    "ExecuteTime": {
     "end_time": "2025-08-22T16:41:38.241071Z",
     "start_time": "2025-08-22T16:41:38.230497Z"
    }
   },
   "cell_type": "code",
   "source": [
    "#merging to book df\n",
    "books=pd.merge(books,emotions_df,on=\"isbn13\")"
   ],
   "id": "59427ab3b4be9bc1",
   "outputs": [],
   "execution_count": 15
  },
  {
   "metadata": {
    "ExecuteTime": {
     "end_time": "2025-08-22T16:41:42.505880Z",
     "start_time": "2025-08-22T16:41:42.485184Z"
    }
   },
   "cell_type": "code",
   "source": "books",
   "id": "ccf5b68136cd71dd",
   "outputs": [
    {
     "data": {
      "text/plain": [
       "             isbn13      isbn10  \\\n",
       "0     9780002005883  0002005883   \n",
       "1     9780002261982  0002261987   \n",
       "2     9780006178736  0006178731   \n",
       "3     9780006280897  0006280897   \n",
       "4     9780006280934  0006280935   \n",
       "...             ...         ...   \n",
       "5192  9788172235222  8172235224   \n",
       "5193  9788173031014  8173031010   \n",
       "5194  9788179921623  817992162X   \n",
       "5195  9788185300535  8185300534   \n",
       "5196  9789027712059  9027712050   \n",
       "\n",
       "                                                  title  \\\n",
       "0                                                Gilead   \n",
       "1                                          Spider's Web   \n",
       "2                                        Rage of angels   \n",
       "3                                        The Four Loves   \n",
       "4                                   The Problem of Pain   \n",
       "...                                                 ...   \n",
       "5192                                  Mistaken Identity   \n",
       "5193                                Journey to the East   \n",
       "5194  The Monk Who Sold His Ferrari: A Fable About F...   \n",
       "5195                                          I Am that   \n",
       "5196                           The Berlin Phenomenology   \n",
       "\n",
       "                                           authors  \\\n",
       "0                               Marilynne Robinson   \n",
       "1                  Charles Osborne;Agatha Christie   \n",
       "2                                   Sidney Sheldon   \n",
       "3                              Clive Staples Lewis   \n",
       "4                              Clive Staples Lewis   \n",
       "...                                            ...   \n",
       "5192                              Nayantara Sahgal   \n",
       "5193                                 Hermann Hesse   \n",
       "5194                                  Robin Sharma   \n",
       "5195  Sri Nisargadatta Maharaj;Sudhakar S. Dikshit   \n",
       "5196                 Georg Wilhelm Friedrich Hegel   \n",
       "\n",
       "                         categories  \\\n",
       "0                           Fiction   \n",
       "1     Detective and mystery stories   \n",
       "2                           Fiction   \n",
       "3                    Christian life   \n",
       "4                    Christian life   \n",
       "...                             ...   \n",
       "5192        Indic fiction (English)   \n",
       "5193              Adventure stories   \n",
       "5194               Health & Fitness   \n",
       "5195                     Philosophy   \n",
       "5196                        History   \n",
       "\n",
       "                                              thumbnail  \\\n",
       "0     http://books.google.com/books/content?id=KQZCP...   \n",
       "1     http://books.google.com/books/content?id=gA5GP...   \n",
       "2     http://books.google.com/books/content?id=FKo2T...   \n",
       "3     http://books.google.com/books/content?id=XhQ5X...   \n",
       "4     http://books.google.com/books/content?id=Kk-uV...   \n",
       "...                                                 ...   \n",
       "5192  http://books.google.com/books/content?id=q-tKP...   \n",
       "5193  http://books.google.com/books/content?id=rq6JP...   \n",
       "5194  http://books.google.com/books/content?id=c_7mf...   \n",
       "5195  http://books.google.com/books/content?id=Fv_JP...   \n",
       "5196  http://books.google.com/books/content?id=Vy7Sk...   \n",
       "\n",
       "                                            description  published_year  \\\n",
       "0     A NOVEL THAT READERS and critics have been eag...          2004.0   \n",
       "1     A new 'Christie for Christmas' -- a full-lengt...          2000.0   \n",
       "2     A memorable, mesmerizing heroine Jennifer -- b...          1993.0   \n",
       "3     Lewis' work on the nature of love divides love...          2002.0   \n",
       "4     \"In The Problem of Pain, C.S. Lewis, one of th...          2002.0   \n",
       "...                                                 ...             ...   \n",
       "5192  On A Train Journey Home To North India After L...          2003.0   \n",
       "5193  This book tells the tale of a man who goes on ...          2002.0   \n",
       "5194  Wisdom to Create a Life of Passion, Purpose, a...          2003.0   \n",
       "5195  This collection of the timeless teachings of o...          1999.0   \n",
       "5196  Since the three volume edition ofHegel's Philo...          1981.0   \n",
       "\n",
       "      average_rating  num_pages  ratings_count  \\\n",
       "0               3.85      247.0          361.0   \n",
       "1               3.83      241.0         5164.0   \n",
       "2               3.93      512.0        29532.0   \n",
       "3               4.15      170.0        33684.0   \n",
       "4               4.09      176.0        37569.0   \n",
       "...              ...        ...            ...   \n",
       "5192            2.93      324.0            0.0   \n",
       "5193            3.70      175.0           24.0   \n",
       "5194            3.82      198.0         1568.0   \n",
       "5195            4.51      531.0          104.0   \n",
       "5196            0.00      210.0            0.0   \n",
       "\n",
       "                                     title_and_subtitle  \\\n",
       "0                                                Gilead   \n",
       "1                                  Spider's Web:A Novel   \n",
       "2                                        Rage of angels   \n",
       "3                                        The Four Loves   \n",
       "4                                   The Problem of Pain   \n",
       "...                                                 ...   \n",
       "5192                                  Mistaken Identity   \n",
       "5193                                Journey to the East   \n",
       "5194  The Monk Who Sold His Ferrari: A Fable About F...   \n",
       "5195      I Am that:Talks with Sri Nisargadatta Maharaj   \n",
       "5196                           The Berlin Phenomenology   \n",
       "\n",
       "                                     tagged_description simple_categories  \\\n",
       "0     9780002005883 A NOVEL THAT READERS and critics...           Fiction   \n",
       "1     9780002261982 A new 'Christie for Christmas' -...           Fiction   \n",
       "2     9780006178736 A memorable, mesmerizing heroine...           Fiction   \n",
       "3     9780006280897 Lewis' work on the nature of lov...        Nonfiction   \n",
       "4     9780006280934 \"In The Problem of Pain, C.S. Le...        Nonfiction   \n",
       "...                                                 ...               ...   \n",
       "5192  9788172235222 On A Train Journey Home To North...           Fiction   \n",
       "5193  9788173031014 This book tells the tale of a ma...        Nonfiction   \n",
       "5194  9788179921623 Wisdom to Create a Life of Passi...           Fiction   \n",
       "5195  9788185300535 This collection of the timeless ...        Nonfiction   \n",
       "5196  9789027712059 Since the three volume edition o...        Nonfiction   \n",
       "\n",
       "         anger   disgust      fear  happiness   sadness  surprise  \n",
       "0     0.064134  0.273591  0.928168   0.932798  0.646216  0.967158  \n",
       "1     0.612619  0.348284  0.942528   0.704422  0.887940  0.111690  \n",
       "2     0.064134  0.104007  0.972321   0.767239  0.549477  0.111690  \n",
       "3     0.351485  0.150722  0.360705   0.251882  0.732685  0.111690  \n",
       "4     0.081412  0.184496  0.095043   0.040564  0.884390  0.475880  \n",
       "...        ...       ...       ...        ...       ...       ...  \n",
       "5192  0.148209  0.030643  0.919165   0.255171  0.853721  0.980877  \n",
       "5193  0.064134  0.114383  0.051363   0.400263  0.883198  0.111690  \n",
       "5194  0.009997  0.009929  0.339218   0.947779  0.375754  0.066685  \n",
       "5195  0.064134  0.104007  0.459270   0.759457  0.951104  0.368111  \n",
       "5196  0.064134  0.104007  0.051363   0.958549  0.915193  0.111690  \n",
       "\n",
       "[5197 rows x 20 columns]"
      ],
      "text/html": [
       "<div>\n",
       "<style scoped>\n",
       "    .dataframe tbody tr th:only-of-type {\n",
       "        vertical-align: middle;\n",
       "    }\n",
       "\n",
       "    .dataframe tbody tr th {\n",
       "        vertical-align: top;\n",
       "    }\n",
       "\n",
       "    .dataframe thead th {\n",
       "        text-align: right;\n",
       "    }\n",
       "</style>\n",
       "<table border=\"1\" class=\"dataframe\">\n",
       "  <thead>\n",
       "    <tr style=\"text-align: right;\">\n",
       "      <th></th>\n",
       "      <th>isbn13</th>\n",
       "      <th>isbn10</th>\n",
       "      <th>title</th>\n",
       "      <th>authors</th>\n",
       "      <th>categories</th>\n",
       "      <th>thumbnail</th>\n",
       "      <th>description</th>\n",
       "      <th>published_year</th>\n",
       "      <th>average_rating</th>\n",
       "      <th>num_pages</th>\n",
       "      <th>ratings_count</th>\n",
       "      <th>title_and_subtitle</th>\n",
       "      <th>tagged_description</th>\n",
       "      <th>simple_categories</th>\n",
       "      <th>anger</th>\n",
       "      <th>disgust</th>\n",
       "      <th>fear</th>\n",
       "      <th>happiness</th>\n",
       "      <th>sadness</th>\n",
       "      <th>surprise</th>\n",
       "    </tr>\n",
       "  </thead>\n",
       "  <tbody>\n",
       "    <tr>\n",
       "      <th>0</th>\n",
       "      <td>9780002005883</td>\n",
       "      <td>0002005883</td>\n",
       "      <td>Gilead</td>\n",
       "      <td>Marilynne Robinson</td>\n",
       "      <td>Fiction</td>\n",
       "      <td>http://books.google.com/books/content?id=KQZCP...</td>\n",
       "      <td>A NOVEL THAT READERS and critics have been eag...</td>\n",
       "      <td>2004.0</td>\n",
       "      <td>3.85</td>\n",
       "      <td>247.0</td>\n",
       "      <td>361.0</td>\n",
       "      <td>Gilead</td>\n",
       "      <td>9780002005883 A NOVEL THAT READERS and critics...</td>\n",
       "      <td>Fiction</td>\n",
       "      <td>0.064134</td>\n",
       "      <td>0.273591</td>\n",
       "      <td>0.928168</td>\n",
       "      <td>0.932798</td>\n",
       "      <td>0.646216</td>\n",
       "      <td>0.967158</td>\n",
       "    </tr>\n",
       "    <tr>\n",
       "      <th>1</th>\n",
       "      <td>9780002261982</td>\n",
       "      <td>0002261987</td>\n",
       "      <td>Spider's Web</td>\n",
       "      <td>Charles Osborne;Agatha Christie</td>\n",
       "      <td>Detective and mystery stories</td>\n",
       "      <td>http://books.google.com/books/content?id=gA5GP...</td>\n",
       "      <td>A new 'Christie for Christmas' -- a full-lengt...</td>\n",
       "      <td>2000.0</td>\n",
       "      <td>3.83</td>\n",
       "      <td>241.0</td>\n",
       "      <td>5164.0</td>\n",
       "      <td>Spider's Web:A Novel</td>\n",
       "      <td>9780002261982 A new 'Christie for Christmas' -...</td>\n",
       "      <td>Fiction</td>\n",
       "      <td>0.612619</td>\n",
       "      <td>0.348284</td>\n",
       "      <td>0.942528</td>\n",
       "      <td>0.704422</td>\n",
       "      <td>0.887940</td>\n",
       "      <td>0.111690</td>\n",
       "    </tr>\n",
       "    <tr>\n",
       "      <th>2</th>\n",
       "      <td>9780006178736</td>\n",
       "      <td>0006178731</td>\n",
       "      <td>Rage of angels</td>\n",
       "      <td>Sidney Sheldon</td>\n",
       "      <td>Fiction</td>\n",
       "      <td>http://books.google.com/books/content?id=FKo2T...</td>\n",
       "      <td>A memorable, mesmerizing heroine Jennifer -- b...</td>\n",
       "      <td>1993.0</td>\n",
       "      <td>3.93</td>\n",
       "      <td>512.0</td>\n",
       "      <td>29532.0</td>\n",
       "      <td>Rage of angels</td>\n",
       "      <td>9780006178736 A memorable, mesmerizing heroine...</td>\n",
       "      <td>Fiction</td>\n",
       "      <td>0.064134</td>\n",
       "      <td>0.104007</td>\n",
       "      <td>0.972321</td>\n",
       "      <td>0.767239</td>\n",
       "      <td>0.549477</td>\n",
       "      <td>0.111690</td>\n",
       "    </tr>\n",
       "    <tr>\n",
       "      <th>3</th>\n",
       "      <td>9780006280897</td>\n",
       "      <td>0006280897</td>\n",
       "      <td>The Four Loves</td>\n",
       "      <td>Clive Staples Lewis</td>\n",
       "      <td>Christian life</td>\n",
       "      <td>http://books.google.com/books/content?id=XhQ5X...</td>\n",
       "      <td>Lewis' work on the nature of love divides love...</td>\n",
       "      <td>2002.0</td>\n",
       "      <td>4.15</td>\n",
       "      <td>170.0</td>\n",
       "      <td>33684.0</td>\n",
       "      <td>The Four Loves</td>\n",
       "      <td>9780006280897 Lewis' work on the nature of lov...</td>\n",
       "      <td>Nonfiction</td>\n",
       "      <td>0.351485</td>\n",
       "      <td>0.150722</td>\n",
       "      <td>0.360705</td>\n",
       "      <td>0.251882</td>\n",
       "      <td>0.732685</td>\n",
       "      <td>0.111690</td>\n",
       "    </tr>\n",
       "    <tr>\n",
       "      <th>4</th>\n",
       "      <td>9780006280934</td>\n",
       "      <td>0006280935</td>\n",
       "      <td>The Problem of Pain</td>\n",
       "      <td>Clive Staples Lewis</td>\n",
       "      <td>Christian life</td>\n",
       "      <td>http://books.google.com/books/content?id=Kk-uV...</td>\n",
       "      <td>\"In The Problem of Pain, C.S. Lewis, one of th...</td>\n",
       "      <td>2002.0</td>\n",
       "      <td>4.09</td>\n",
       "      <td>176.0</td>\n",
       "      <td>37569.0</td>\n",
       "      <td>The Problem of Pain</td>\n",
       "      <td>9780006280934 \"In The Problem of Pain, C.S. Le...</td>\n",
       "      <td>Nonfiction</td>\n",
       "      <td>0.081412</td>\n",
       "      <td>0.184496</td>\n",
       "      <td>0.095043</td>\n",
       "      <td>0.040564</td>\n",
       "      <td>0.884390</td>\n",
       "      <td>0.475880</td>\n",
       "    </tr>\n",
       "    <tr>\n",
       "      <th>...</th>\n",
       "      <td>...</td>\n",
       "      <td>...</td>\n",
       "      <td>...</td>\n",
       "      <td>...</td>\n",
       "      <td>...</td>\n",
       "      <td>...</td>\n",
       "      <td>...</td>\n",
       "      <td>...</td>\n",
       "      <td>...</td>\n",
       "      <td>...</td>\n",
       "      <td>...</td>\n",
       "      <td>...</td>\n",
       "      <td>...</td>\n",
       "      <td>...</td>\n",
       "      <td>...</td>\n",
       "      <td>...</td>\n",
       "      <td>...</td>\n",
       "      <td>...</td>\n",
       "      <td>...</td>\n",
       "      <td>...</td>\n",
       "    </tr>\n",
       "    <tr>\n",
       "      <th>5192</th>\n",
       "      <td>9788172235222</td>\n",
       "      <td>8172235224</td>\n",
       "      <td>Mistaken Identity</td>\n",
       "      <td>Nayantara Sahgal</td>\n",
       "      <td>Indic fiction (English)</td>\n",
       "      <td>http://books.google.com/books/content?id=q-tKP...</td>\n",
       "      <td>On A Train Journey Home To North India After L...</td>\n",
       "      <td>2003.0</td>\n",
       "      <td>2.93</td>\n",
       "      <td>324.0</td>\n",
       "      <td>0.0</td>\n",
       "      <td>Mistaken Identity</td>\n",
       "      <td>9788172235222 On A Train Journey Home To North...</td>\n",
       "      <td>Fiction</td>\n",
       "      <td>0.148209</td>\n",
       "      <td>0.030643</td>\n",
       "      <td>0.919165</td>\n",
       "      <td>0.255171</td>\n",
       "      <td>0.853721</td>\n",
       "      <td>0.980877</td>\n",
       "    </tr>\n",
       "    <tr>\n",
       "      <th>5193</th>\n",
       "      <td>9788173031014</td>\n",
       "      <td>8173031010</td>\n",
       "      <td>Journey to the East</td>\n",
       "      <td>Hermann Hesse</td>\n",
       "      <td>Adventure stories</td>\n",
       "      <td>http://books.google.com/books/content?id=rq6JP...</td>\n",
       "      <td>This book tells the tale of a man who goes on ...</td>\n",
       "      <td>2002.0</td>\n",
       "      <td>3.70</td>\n",
       "      <td>175.0</td>\n",
       "      <td>24.0</td>\n",
       "      <td>Journey to the East</td>\n",
       "      <td>9788173031014 This book tells the tale of a ma...</td>\n",
       "      <td>Nonfiction</td>\n",
       "      <td>0.064134</td>\n",
       "      <td>0.114383</td>\n",
       "      <td>0.051363</td>\n",
       "      <td>0.400263</td>\n",
       "      <td>0.883198</td>\n",
       "      <td>0.111690</td>\n",
       "    </tr>\n",
       "    <tr>\n",
       "      <th>5194</th>\n",
       "      <td>9788179921623</td>\n",
       "      <td>817992162X</td>\n",
       "      <td>The Monk Who Sold His Ferrari: A Fable About F...</td>\n",
       "      <td>Robin Sharma</td>\n",
       "      <td>Health &amp; Fitness</td>\n",
       "      <td>http://books.google.com/books/content?id=c_7mf...</td>\n",
       "      <td>Wisdom to Create a Life of Passion, Purpose, a...</td>\n",
       "      <td>2003.0</td>\n",
       "      <td>3.82</td>\n",
       "      <td>198.0</td>\n",
       "      <td>1568.0</td>\n",
       "      <td>The Monk Who Sold His Ferrari: A Fable About F...</td>\n",
       "      <td>9788179921623 Wisdom to Create a Life of Passi...</td>\n",
       "      <td>Fiction</td>\n",
       "      <td>0.009997</td>\n",
       "      <td>0.009929</td>\n",
       "      <td>0.339218</td>\n",
       "      <td>0.947779</td>\n",
       "      <td>0.375754</td>\n",
       "      <td>0.066685</td>\n",
       "    </tr>\n",
       "    <tr>\n",
       "      <th>5195</th>\n",
       "      <td>9788185300535</td>\n",
       "      <td>8185300534</td>\n",
       "      <td>I Am that</td>\n",
       "      <td>Sri Nisargadatta Maharaj;Sudhakar S. Dikshit</td>\n",
       "      <td>Philosophy</td>\n",
       "      <td>http://books.google.com/books/content?id=Fv_JP...</td>\n",
       "      <td>This collection of the timeless teachings of o...</td>\n",
       "      <td>1999.0</td>\n",
       "      <td>4.51</td>\n",
       "      <td>531.0</td>\n",
       "      <td>104.0</td>\n",
       "      <td>I Am that:Talks with Sri Nisargadatta Maharaj</td>\n",
       "      <td>9788185300535 This collection of the timeless ...</td>\n",
       "      <td>Nonfiction</td>\n",
       "      <td>0.064134</td>\n",
       "      <td>0.104007</td>\n",
       "      <td>0.459270</td>\n",
       "      <td>0.759457</td>\n",
       "      <td>0.951104</td>\n",
       "      <td>0.368111</td>\n",
       "    </tr>\n",
       "    <tr>\n",
       "      <th>5196</th>\n",
       "      <td>9789027712059</td>\n",
       "      <td>9027712050</td>\n",
       "      <td>The Berlin Phenomenology</td>\n",
       "      <td>Georg Wilhelm Friedrich Hegel</td>\n",
       "      <td>History</td>\n",
       "      <td>http://books.google.com/books/content?id=Vy7Sk...</td>\n",
       "      <td>Since the three volume edition ofHegel's Philo...</td>\n",
       "      <td>1981.0</td>\n",
       "      <td>0.00</td>\n",
       "      <td>210.0</td>\n",
       "      <td>0.0</td>\n",
       "      <td>The Berlin Phenomenology</td>\n",
       "      <td>9789027712059 Since the three volume edition o...</td>\n",
       "      <td>Nonfiction</td>\n",
       "      <td>0.064134</td>\n",
       "      <td>0.104007</td>\n",
       "      <td>0.051363</td>\n",
       "      <td>0.958549</td>\n",
       "      <td>0.915193</td>\n",
       "      <td>0.111690</td>\n",
       "    </tr>\n",
       "  </tbody>\n",
       "</table>\n",
       "<p>5197 rows × 20 columns</p>\n",
       "</div>"
      ]
     },
     "execution_count": 16,
     "metadata": {},
     "output_type": "execute_result"
    }
   ],
   "execution_count": 16
  },
  {
   "metadata": {
    "ExecuteTime": {
     "end_time": "2025-08-22T16:43:25.885838Z",
     "start_time": "2025-08-22T16:43:25.570302Z"
    }
   },
   "cell_type": "code",
   "source": [
    "#saving df\n",
    "books.to_csv(\"books_with_emotions.csv\", index=False)"
   ],
   "id": "5ad9857978804562",
   "outputs": [],
   "execution_count": 17
  }
 ],
 "metadata": {
  "kernelspec": {
   "display_name": "Python 3",
   "language": "python",
   "name": "python3"
  },
  "language_info": {
   "codemirror_mode": {
    "name": "ipython",
    "version": 2
   },
   "file_extension": ".py",
   "mimetype": "text/x-python",
   "name": "python",
   "nbconvert_exporter": "python",
   "pygments_lexer": "ipython2",
   "version": "2.7.6"
  }
 },
 "nbformat": 4,
 "nbformat_minor": 5
}
